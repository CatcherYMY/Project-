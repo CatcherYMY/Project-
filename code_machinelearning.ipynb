{
 "cells": [
  {
   "cell_type": "code",
   "execution_count": 1,
   "metadata": {},
   "outputs": [],
   "source": [
    "import numpy as np\n",
    "import pandas as pd\n",
    "import matplotlib as mpl\n",
    "import matplotlib.pyplot as plt\n",
    "import seaborn as sns\n",
    "%matplotlib inline\n",
    "import warnings; warnings.simplefilter('ignore')\n",
    "from tqdm.notebook import tqdm\n",
    "import math as math\n",
    "import os"
   ]
  },
  {
   "cell_type": "code",
   "execution_count": 5,
   "metadata": {},
   "outputs": [
    {
     "name": "stdout",
     "output_type": "stream",
     "text": [
      "Collecting geopandas\n",
      "  Downloading geopandas-0.14.1-py3-none-any.whl (1.1 MB)\n",
      "Collecting fiona>=1.8.21\n",
      "  Downloading fiona-1.9.5-cp39-cp39-win_amd64.whl (22.9 MB)\n",
      "Collecting shapely>=1.8.0\n",
      "  Downloading shapely-2.0.2-cp39-cp39-win_amd64.whl (1.4 MB)\n",
      "Collecting pyproj>=3.3.0\n",
      "  Downloading pyproj-3.6.1-cp39-cp39-win_amd64.whl (6.1 MB)\n"
     ]
    },
    {
     "name": "stderr",
     "output_type": "stream",
     "text": [
      "WARNING: Ignoring invalid distribution -andas (d:\\anaconda\\lib\\site-packages)\n",
      "WARNING: Ignoring invalid distribution -andas (d:\\anaconda\\lib\\site-packages)\n",
      "ERROR: Exception:\n",
      "Traceback (most recent call last):\n",
      "  File \"d:\\anaconda\\lib\\site-packages\\pip\\_vendor\\urllib3\\response.py\", line 438, in _error_catcher\n",
      "    yield\n",
      "  File \"d:\\anaconda\\lib\\site-packages\\pip\\_vendor\\urllib3\\response.py\", line 519, in read\n",
      "    data = self._fp.read(amt) if not fp_closed else b\"\"\n",
      "  File \"d:\\anaconda\\lib\\site-packages\\pip\\_vendor\\cachecontrol\\filewrapper.py\", line 62, in read\n",
      "    data = self.__fp.read(amt)\n",
      "  File \"d:\\anaconda\\lib\\http\\client.py\", line 463, in read\n",
      "    n = self.readinto(b)\n",
      "  File \"d:\\anaconda\\lib\\http\\client.py\", line 507, in readinto\n",
      "    n = self.fp.readinto(b)\n",
      "  File \"d:\\anaconda\\lib\\socket.py\", line 704, in readinto\n",
      "    return self._sock.recv_into(b)\n",
      "  File \"d:\\anaconda\\lib\\ssl.py\", line 1242, in recv_into\n",
      "    return self.read(nbytes, buffer)\n",
      "  File \"d:\\anaconda\\lib\\ssl.py\", line 1100, in read\n",
      "    return self._sslobj.read(len, buffer)\n",
      "socket.timeout: The read operation timed out\n",
      "\n",
      "During handling of the above exception, another exception occurred:\n",
      "\n",
      "Traceback (most recent call last):\n",
      "  File \"d:\\anaconda\\lib\\site-packages\\pip\\_internal\\cli\\base_command.py\", line 173, in _main\n",
      "    status = self.run(options, args)\n",
      "  File \"d:\\anaconda\\lib\\site-packages\\pip\\_internal\\cli\\req_command.py\", line 203, in wrapper\n",
      "    return func(self, options, args)\n",
      "  File \"d:\\anaconda\\lib\\site-packages\\pip\\_internal\\commands\\install.py\", line 315, in run\n",
      "    requirement_set = resolver.resolve(\n",
      "  File \"d:\\anaconda\\lib\\site-packages\\pip\\_internal\\resolution\\resolvelib\\resolver.py\", line 94, in resolve\n",
      "    result = self._result = resolver.resolve(\n",
      "  File \"d:\\anaconda\\lib\\site-packages\\pip\\_vendor\\resolvelib\\resolvers.py\", line 472, in resolve\n",
      "    state = resolution.resolve(requirements, max_rounds=max_rounds)\n",
      "  File \"d:\\anaconda\\lib\\site-packages\\pip\\_vendor\\resolvelib\\resolvers.py\", line 366, in resolve\n",
      "    failure_causes = self._attempt_to_pin_criterion(name)\n",
      "  File \"d:\\anaconda\\lib\\site-packages\\pip\\_vendor\\resolvelib\\resolvers.py\", line 212, in _attempt_to_pin_criterion\n",
      "    criteria = self._get_updated_criteria(candidate)\n",
      "  File \"d:\\anaconda\\lib\\site-packages\\pip\\_vendor\\resolvelib\\resolvers.py\", line 203, in _get_updated_criteria\n",
      "    self._add_to_criteria(criteria, requirement, parent=candidate)\n",
      "  File \"d:\\anaconda\\lib\\site-packages\\pip\\_vendor\\resolvelib\\resolvers.py\", line 172, in _add_to_criteria\n",
      "    if not criterion.candidates:\n",
      "  File \"d:\\anaconda\\lib\\site-packages\\pip\\_vendor\\resolvelib\\structs.py\", line 151, in __bool__\n",
      "    return bool(self._sequence)\n",
      "  File \"d:\\anaconda\\lib\\site-packages\\pip\\_internal\\resolution\\resolvelib\\found_candidates.py\", line 140, in __bool__\n",
      "    return any(self)\n",
      "  File \"d:\\anaconda\\lib\\site-packages\\pip\\_internal\\resolution\\resolvelib\\found_candidates.py\", line 128, in <genexpr>\n",
      "    return (c for c in iterator if id(c) not in self._incompatible_ids)\n",
      "  File \"d:\\anaconda\\lib\\site-packages\\pip\\_internal\\resolution\\resolvelib\\found_candidates.py\", line 32, in _iter_built\n",
      "    candidate = func()\n",
      "  File \"d:\\anaconda\\lib\\site-packages\\pip\\_internal\\resolution\\resolvelib\\factory.py\", line 204, in _make_candidate_from_link\n",
      "    self._link_candidate_cache[link] = LinkCandidate(\n",
      "  File \"d:\\anaconda\\lib\\site-packages\\pip\\_internal\\resolution\\resolvelib\\candidates.py\", line 295, in __init__\n",
      "    super().__init__(\n",
      "  File \"d:\\anaconda\\lib\\site-packages\\pip\\_internal\\resolution\\resolvelib\\candidates.py\", line 156, in __init__\n",
      "    self.dist = self._prepare()\n",
      "  File \"d:\\anaconda\\lib\\site-packages\\pip\\_internal\\resolution\\resolvelib\\candidates.py\", line 227, in _prepare\n",
      "    dist = self._prepare_distribution()\n",
      "  File \"d:\\anaconda\\lib\\site-packages\\pip\\_internal\\resolution\\resolvelib\\candidates.py\", line 305, in _prepare_distribution\n",
      "    return self._factory.preparer.prepare_linked_requirement(\n",
      "  File \"d:\\anaconda\\lib\\site-packages\\pip\\_internal\\operations\\prepare.py\", line 508, in prepare_linked_requirement\n",
      "    return self._prepare_linked_requirement(req, parallel_builds)\n",
      "  File \"d:\\anaconda\\lib\\site-packages\\pip\\_internal\\operations\\prepare.py\", line 550, in _prepare_linked_requirement\n",
      "    local_file = unpack_url(\n",
      "  File \"d:\\anaconda\\lib\\site-packages\\pip\\_internal\\operations\\prepare.py\", line 239, in unpack_url\n",
      "    file = get_http_url(\n",
      "  File \"d:\\anaconda\\lib\\site-packages\\pip\\_internal\\operations\\prepare.py\", line 102, in get_http_url\n",
      "    from_path, content_type = download(link, temp_dir.path)\n",
      "  File \"d:\\anaconda\\lib\\site-packages\\pip\\_internal\\network\\download.py\", line 145, in __call__\n",
      "    for chunk in chunks:\n",
      "  File \"d:\\anaconda\\lib\\site-packages\\pip\\_internal\\cli\\progress_bars.py\", line 144, in iter\n",
      "    for x in it:\n",
      "  File \"d:\\anaconda\\lib\\site-packages\\pip\\_internal\\network\\utils.py\", line 63, in response_chunks\n",
      "    for chunk in response.raw.stream(\n",
      "  File \"d:\\anaconda\\lib\\site-packages\\pip\\_vendor\\urllib3\\response.py\", line 576, in stream\n",
      "    data = self.read(amt=amt, decode_content=decode_content)\n",
      "  File \"d:\\anaconda\\lib\\site-packages\\pip\\_vendor\\urllib3\\response.py\", line 541, in read\n",
      "    raise IncompleteRead(self._fp_bytes_read, self.length_remaining)\n",
      "  File \"d:\\anaconda\\lib\\contextlib.py\", line 137, in __exit__\n",
      "    self.gen.throw(typ, value, traceback)\n",
      "  File \"d:\\anaconda\\lib\\site-packages\\pip\\_vendor\\urllib3\\response.py\", line 443, in _error_catcher\n",
      "    raise ReadTimeoutError(self._pool, None, \"Read timed out.\")\n",
      "pip._vendor.urllib3.exceptions.ReadTimeoutError: HTTPSConnectionPool(host='files.pythonhosted.org', port=443): Read timed out.\n",
      "WARNING: Ignoring invalid distribution -andas (d:\\anaconda\\lib\\site-packages)\n",
      "WARNING: Ignoring invalid distribution -andas (d:\\anaconda\\lib\\site-packages)\n",
      "WARNING: Ignoring invalid distribution -andas (d:\\anaconda\\lib\\site-packages)\n"
     ]
    },
    {
     "name": "stdout",
     "output_type": "stream",
     "text": [
      "Collecting geopandas\n",
      "  Using cached geopandas-0.14.1-py3-none-any.whl (1.1 MB)\n",
      "Collecting fiona>=1.8.21\n",
      "  Downloading fiona-1.9.5-cp39-cp39-win_amd64.whl (22.9 MB)\n",
      "Requirement already satisfied: pandas>=1.4.0 in d:\\anaconda\\lib\\site-packages (from geopandas) (1.4.2)\n",
      "Collecting shapely>=1.8.0\n",
      "  Using cached shapely-2.0.2-cp39-cp39-win_amd64.whl (1.4 MB)\n",
      "Collecting pyproj>=3.3.0\n",
      "  Downloading pyproj-3.6.1-cp39-cp39-win_amd64.whl (6.1 MB)\n",
      "Requirement already satisfied: packaging in d:\\anaconda\\lib\\site-packages (from geopandas) (21.3)\n",
      "Requirement already satisfied: importlib-metadata in d:\\anaconda\\lib\\site-packages (from fiona>=1.8.21->geopandas) (4.11.3)\n",
      "Collecting click-plugins>=1.0\n",
      "  Downloading click_plugins-1.1.1-py2.py3-none-any.whl (7.5 kB)\n",
      "Requirement already satisfied: setuptools in d:\\anaconda\\lib\\site-packages (from fiona>=1.8.21->geopandas) (61.2.0)\n",
      "Requirement already satisfied: click~=8.0 in d:\\anaconda\\lib\\site-packages (from fiona>=1.8.21->geopandas) (8.0.4)\n",
      "Requirement already satisfied: attrs>=19.2.0 in d:\\anaconda\\lib\\site-packages (from fiona>=1.8.21->geopandas) (21.4.0)\n",
      "Requirement already satisfied: certifi in d:\\anaconda\\lib\\site-packages (from fiona>=1.8.21->geopandas) (2022.12.7)\n",
      "Requirement already satisfied: six in d:\\anaconda\\lib\\site-packages (from fiona>=1.8.21->geopandas) (1.16.0)\n",
      "Collecting cligj>=0.5\n",
      "  Downloading cligj-0.7.2-py3-none-any.whl (7.1 kB)\n",
      "Requirement already satisfied: colorama in d:\\anaconda\\lib\\site-packages (from click~=8.0->fiona>=1.8.21->geopandas) (0.4.4)\n",
      "Requirement already satisfied: python-dateutil>=2.8.1 in d:\\anaconda\\lib\\site-packages (from pandas>=1.4.0->geopandas) (2.8.2)\n",
      "Requirement already satisfied: pytz>=2020.1 in d:\\anaconda\\lib\\site-packages (from pandas>=1.4.0->geopandas) (2023.3)\n",
      "Requirement already satisfied: numpy>=1.18.5 in d:\\anaconda\\lib\\site-packages (from pandas>=1.4.0->geopandas) (1.21.5)\n",
      "Requirement already satisfied: zipp>=0.5 in d:\\anaconda\\lib\\site-packages (from importlib-metadata->fiona>=1.8.21->geopandas) (3.7.0)\n",
      "Requirement already satisfied: pyparsing!=3.0.5,>=2.0.2 in d:\\anaconda\\lib\\site-packages (from packaging->geopandas) (3.0.4)\n",
      "Installing collected packages: cligj, click-plugins, shapely, pyproj, fiona, geopandas\n",
      "Successfully installed click-plugins-1.1.1 cligj-0.7.2 fiona-1.9.5 geopandas-0.14.1 pyproj-3.6.1 shapely-2.0.2\n",
      "Note: you may need to restart the kernel to use updated packages.\n"
     ]
    },
    {
     "name": "stderr",
     "output_type": "stream",
     "text": [
      "WARNING: Ignoring invalid distribution -andas (d:\\anaconda\\lib\\site-packages)\n",
      "WARNING: Ignoring invalid distribution -andas (d:\\anaconda\\lib\\site-packages)\n",
      "WARNING: Ignoring invalid distribution -andas (d:\\anaconda\\lib\\site-packages)\n",
      "WARNING: Ignoring invalid distribution -andas (d:\\anaconda\\lib\\site-packages)\n",
      "WARNING: Ignoring invalid distribution -andas (d:\\anaconda\\lib\\site-packages)\n",
      "WARNING: Ignoring invalid distribution -andas (d:\\anaconda\\lib\\site-packages)\n",
      "WARNING: Ignoring invalid distribution -andas (d:\\anaconda\\lib\\site-packages)\n",
      "WARNING: Ignoring invalid distribution -andas (d:\\anaconda\\lib\\site-packages)\n",
      "WARNING: Ignoring invalid distribution -andas (d:\\anaconda\\lib\\site-packages)\n",
      "WARNING: Ignoring invalid distribution -andas (d:\\anaconda\\lib\\site-packages)\n",
      "WARNING: Ignoring invalid distribution -andas (d:\\anaconda\\lib\\site-packages)\n",
      "WARNING: Ignoring invalid distribution -andas (d:\\anaconda\\lib\\site-packages)\n"
     ]
    }
   ],
   "source": [
    "pip install geopandas"
   ]
  },
  {
   "cell_type": "code",
   "execution_count": 10,
   "metadata": {},
   "outputs": [],
   "source": [
    "import geopandas as gpd\n",
    "import matplotlib.pyplot as plt  \n",
    "# 读取shp文件，（路径自设）"
   ]
  },
  {
   "cell_type": "code",
   "execution_count": 13,
   "metadata": {},
   "outputs": [],
   "source": [
    "gdf = gpd.read_file('data/IBRA7_regions_26sep2015.shp')  \n"
   ]
  },
  {
   "cell_type": "code",
   "execution_count": 15,
   "metadata": {},
   "outputs": [
    {
     "data": {
      "text/html": [
       "<div>\n",
       "<style scoped>\n",
       "    .dataframe tbody tr th:only-of-type {\n",
       "        vertical-align: middle;\n",
       "    }\n",
       "\n",
       "    .dataframe tbody tr th {\n",
       "        vertical-align: top;\n",
       "    }\n",
       "\n",
       "    .dataframe thead th {\n",
       "        text-align: right;\n",
       "    }\n",
       "</style>\n",
       "<table border=\"1\" class=\"dataframe\">\n",
       "  <thead>\n",
       "    <tr style=\"text-align: right;\">\n",
       "      <th></th>\n",
       "      <th>REG_CODE_7</th>\n",
       "      <th>reg_code_8</th>\n",
       "      <th>AMPHIBIAN_</th>\n",
       "      <th>AMPHIBIAN1</th>\n",
       "      <th>AMPHIBIA_1</th>\n",
       "      <th>AMPHIBIA_2</th>\n",
       "      <th>AMPHIBIA_3</th>\n",
       "      <th>BIRD_CD</th>\n",
       "      <th>BIRD_CE</th>\n",
       "      <th>BIRD_E</th>\n",
       "      <th>...</th>\n",
       "      <th>BIRD_TOT_1</th>\n",
       "      <th>BIRD_CE_CA</th>\n",
       "      <th>REPTILE_CA</th>\n",
       "      <th>AMPHIBIA_4</th>\n",
       "      <th>OTHER_CE_C</th>\n",
       "      <th>FISH_TOT_1</th>\n",
       "      <th>OTHER_TO_1</th>\n",
       "      <th>SHAPE_Leng</th>\n",
       "      <th>SHAPE_Area</th>\n",
       "      <th>geometry</th>\n",
       "    </tr>\n",
       "  </thead>\n",
       "  <tbody>\n",
       "    <tr>\n",
       "      <th>0</th>\n",
       "      <td>ARC</td>\n",
       "      <td>ARC</td>\n",
       "      <td>0.0</td>\n",
       "      <td>0.0</td>\n",
       "      <td>0.0</td>\n",
       "      <td>0.0</td>\n",
       "      <td>0.0</td>\n",
       "      <td>0.0</td>\n",
       "      <td>0.0</td>\n",
       "      <td>2.0</td>\n",
       "      <td>...</td>\n",
       "      <td>6–10</td>\n",
       "      <td>0</td>\n",
       "      <td>6–10</td>\n",
       "      <td>0</td>\n",
       "      <td>0</td>\n",
       "      <td>2–5</td>\n",
       "      <td>1</td>\n",
       "      <td>52.135362</td>\n",
       "      <td>2.774143</td>\n",
       "      <td>MULTIPOLYGON (((132.88061 -11.33308, 132.88143...</td>\n",
       "    </tr>\n",
       "    <tr>\n",
       "      <th>1</th>\n",
       "      <td>ARP</td>\n",
       "      <td>ARP</td>\n",
       "      <td>0.0</td>\n",
       "      <td>0.0</td>\n",
       "      <td>0.0</td>\n",
       "      <td>0.0</td>\n",
       "      <td>0.0</td>\n",
       "      <td>0.0</td>\n",
       "      <td>0.0</td>\n",
       "      <td>2.0</td>\n",
       "      <td>...</td>\n",
       "      <td>6–10</td>\n",
       "      <td>0</td>\n",
       "      <td>2–5</td>\n",
       "      <td>0</td>\n",
       "      <td>0</td>\n",
       "      <td>2–5</td>\n",
       "      <td>0</td>\n",
       "      <td>8.206764</td>\n",
       "      <td>1.921833</td>\n",
       "      <td>POLYGON ((134.08186 -12.32124, 134.09525 -12.3...</td>\n",
       "    </tr>\n",
       "    <tr>\n",
       "      <th>2</th>\n",
       "      <td>AUA</td>\n",
       "      <td>AUA</td>\n",
       "      <td>0.0</td>\n",
       "      <td>2.0</td>\n",
       "      <td>4.0</td>\n",
       "      <td>3.0</td>\n",
       "      <td>9.0</td>\n",
       "      <td>0.0</td>\n",
       "      <td>1.0</td>\n",
       "      <td>3.0</td>\n",
       "      <td>...</td>\n",
       "      <td>6–10</td>\n",
       "      <td>1</td>\n",
       "      <td>2–5</td>\n",
       "      <td>6–10</td>\n",
       "      <td>0</td>\n",
       "      <td>2–5</td>\n",
       "      <td>1</td>\n",
       "      <td>63.337626</td>\n",
       "      <td>1.242821</td>\n",
       "      <td>MULTIPOLYGON (((148.80431 -35.35456, 148.80733...</td>\n",
       "    </tr>\n",
       "    <tr>\n",
       "      <th>3</th>\n",
       "      <td>AVW</td>\n",
       "      <td>AVW</td>\n",
       "      <td>0.0</td>\n",
       "      <td>0.0</td>\n",
       "      <td>0.0</td>\n",
       "      <td>0.0</td>\n",
       "      <td>0.0</td>\n",
       "      <td>0.0</td>\n",
       "      <td>0.0</td>\n",
       "      <td>2.0</td>\n",
       "      <td>...</td>\n",
       "      <td>1–5</td>\n",
       "      <td>0</td>\n",
       "      <td>1</td>\n",
       "      <td>0</td>\n",
       "      <td>1</td>\n",
       "      <td>0</td>\n",
       "      <td>2–5</td>\n",
       "      <td>35.275357</td>\n",
       "      <td>9.012298</td>\n",
       "      <td>POLYGON ((115.48396 -28.30698, 115.48428 -28.3...</td>\n",
       "    </tr>\n",
       "    <tr>\n",
       "      <th>4</th>\n",
       "      <td>BBN</td>\n",
       "      <td>BBN</td>\n",
       "      <td>0.0</td>\n",
       "      <td>0.0</td>\n",
       "      <td>3.0</td>\n",
       "      <td>0.0</td>\n",
       "      <td>3.0</td>\n",
       "      <td>0.0</td>\n",
       "      <td>3.0</td>\n",
       "      <td>5.0</td>\n",
       "      <td>...</td>\n",
       "      <td>11–15</td>\n",
       "      <td>3</td>\n",
       "      <td>11–15</td>\n",
       "      <td>2–5</td>\n",
       "      <td>0</td>\n",
       "      <td>2–5</td>\n",
       "      <td>0</td>\n",
       "      <td>91.288203</td>\n",
       "      <td>11.986228</td>\n",
       "      <td>MULTIPOLYGON (((146.60302 -19.15312, 146.60311...</td>\n",
       "    </tr>\n",
       "  </tbody>\n",
       "</table>\n",
       "<p>5 rows × 58 columns</p>\n",
       "</div>"
      ],
      "text/plain": [
       "  REG_CODE_7 reg_code_8  AMPHIBIAN_  AMPHIBIAN1  AMPHIBIA_1  AMPHIBIA_2  \\\n",
       "0        ARC        ARC         0.0         0.0         0.0         0.0   \n",
       "1        ARP        ARP         0.0         0.0         0.0         0.0   \n",
       "2        AUA        AUA         0.0         2.0         4.0         3.0   \n",
       "3        AVW        AVW         0.0         0.0         0.0         0.0   \n",
       "4        BBN        BBN         0.0         0.0         3.0         0.0   \n",
       "\n",
       "   AMPHIBIA_3  BIRD_CD  BIRD_CE  BIRD_E  ...  BIRD_TOT_1  BIRD_CE_CA  \\\n",
       "0         0.0      0.0      0.0     2.0  ...        6–10           0   \n",
       "1         0.0      0.0      0.0     2.0  ...        6–10           0   \n",
       "2         9.0      0.0      1.0     3.0  ...        6–10           1   \n",
       "3         0.0      0.0      0.0     2.0  ...         1–5           0   \n",
       "4         3.0      0.0      3.0     5.0  ...       11–15           3   \n",
       "\n",
       "   REPTILE_CA  AMPHIBIA_4  OTHER_CE_C  FISH_TOT_1  OTHER_TO_1  SHAPE_Leng  \\\n",
       "0        6–10           0           0         2–5           1   52.135362   \n",
       "1         2–5           0           0         2–5           0    8.206764   \n",
       "2         2–5        6–10           0         2–5           1   63.337626   \n",
       "3           1           0           1           0         2–5   35.275357   \n",
       "4       11–15         2–5           0         2–5           0   91.288203   \n",
       "\n",
       "   SHAPE_Area                                           geometry  \n",
       "0    2.774143  MULTIPOLYGON (((132.88061 -11.33308, 132.88143...  \n",
       "1    1.921833  POLYGON ((134.08186 -12.32124, 134.09525 -12.3...  \n",
       "2    1.242821  MULTIPOLYGON (((148.80431 -35.35456, 148.80733...  \n",
       "3    9.012298  POLYGON ((115.48396 -28.30698, 115.48428 -28.3...  \n",
       "4   11.986228  MULTIPOLYGON (((146.60302 -19.15312, 146.60311...  \n",
       "\n",
       "[5 rows x 58 columns]"
      ]
     },
     "execution_count": 15,
     "metadata": {},
     "output_type": "execute_result"
    }
   ],
   "source": [
    "gdf.head()"
   ]
  },
  {
   "cell_type": "markdown",
   "metadata": {},
   "source": [
    "### 并使用基本可视化（使用Pandas、NumPy、Matplotlib、Seaborn、Plotly或类似软件包）在您的数据集上执行EDA（探索性数据分析和可视化）"
   ]
  },
  {
   "cell_type": "code",
   "execution_count": 16,
   "metadata": {},
   "outputs": [
    {
     "data": {
      "text/plain": [
       "Index(['REG_CODE_7', 'reg_code_8', 'AMPHIBIAN_', 'AMPHIBIAN1', 'AMPHIBIA_1',\n",
       "       'AMPHIBIA_2', 'AMPHIBIA_3', 'BIRD_CD', 'BIRD_CE', 'BIRD_E', 'BIRD_V',\n",
       "       'BIRD_TOTAL', 'FISH_CD', 'FISH_CE', 'FISH_E', 'FISH_V', 'FISH_TOTAL',\n",
       "       'MAMMAL_CD', 'MAMMAL_CE', 'MAMMAL_E', 'MAMMAL_V', 'MAMMAL_TOT',\n",
       "       'OTHER_CD', 'OTHER_CE', 'OTHER_E', 'OTHER_V', 'OTHER_TOTA', 'PLANT_CD',\n",
       "       'PLANT_CE', 'PLANT_E', 'PLANT_V', 'PLANT_TOTA', 'REPTILE_CD',\n",
       "       'REPTILE_CE', 'REPTILE_E', 'REPTILE_V', 'REPTILE_TO', 'CONSERVATI',\n",
       "       'CRITICALLY', 'ENDANGERED', 'VULNERABLE', 'TOTAL', 'TOTAL_CAT',\n",
       "       'CE_CAT', 'PLANT_TO_1', 'PLANT_CE_C', 'MAMMAL_T_1', 'MAMMAL_CE_',\n",
       "       'BIRD_TOT_1', 'BIRD_CE_CA', 'REPTILE_CA', 'AMPHIBIA_4', 'OTHER_CE_C',\n",
       "       'FISH_TOT_1', 'OTHER_TO_1', 'SHAPE_Leng', 'SHAPE_Area', 'geometry'],\n",
       "      dtype='object')"
      ]
     },
     "execution_count": 16,
     "metadata": {},
     "output_type": "execute_result"
    }
   ],
   "source": [
    "gdf.columns"
   ]
  },
  {
   "cell_type": "code",
   "execution_count": 17,
   "metadata": {},
   "outputs": [
    {
     "name": "stdout",
     "output_type": "stream",
     "text": [
      "       AMPHIBIAN_  AMPHIBIAN1  AMPHIBIA_1  AMPHIBIA_2  AMPHIBIA_3  BIRD_CD  \\\n",
      "count        89.0   89.000000   89.000000   89.000000   89.000000     89.0   \n",
      "mean          0.0    0.101124    0.550562    0.550562    1.202247      0.0   \n",
      "std           0.0    0.370655    1.234092    1.044588    2.262238      0.0   \n",
      "min           0.0    0.000000    0.000000    0.000000    0.000000      0.0   \n",
      "25%           0.0    0.000000    0.000000    0.000000    0.000000      0.0   \n",
      "50%           0.0    0.000000    0.000000    0.000000    0.000000      0.0   \n",
      "75%           0.0    0.000000    0.000000    1.000000    1.000000      0.0   \n",
      "max           0.0    2.000000    5.000000    5.000000   10.000000      0.0   \n",
      "\n",
      "         BIRD_CE     BIRD_E     BIRD_V  BIRD_TOTAL  ...  REPTILE_E  REPTILE_V  \\\n",
      "count  89.000000  89.000000  89.000000   89.000000  ...  89.000000  89.000000   \n",
      "mean    1.505618   3.449438   6.719101   11.674157  ...   1.595506   2.426966   \n",
      "std     1.523480   2.306174   5.051977    7.767612  ...   1.482620   1.947537   \n",
      "min     0.000000   0.000000   0.000000    0.000000  ...   0.000000   0.000000   \n",
      "25%     0.000000   2.000000   3.000000    6.000000  ...   0.000000   1.000000   \n",
      "50%     1.000000   3.000000   5.000000    9.000000  ...   2.000000   2.000000   \n",
      "75%     2.000000   5.000000  11.000000   18.000000  ...   3.000000   4.000000   \n",
      "max     6.000000   9.000000  18.000000   31.000000  ...   6.000000   9.000000   \n",
      "\n",
      "       REPTILE_TO  CONSERVATI  CRITICALLY  ENDANGERED  VULNERABLE       TOTAL  \\\n",
      "count   89.000000   89.000000   89.000000   89.000000   89.000000   89.000000   \n",
      "mean     4.202247    0.685393    5.258427   21.764045   31.393258   59.101124   \n",
      "std      3.330915    0.860701    5.428310   21.313153   24.983912   48.431781   \n",
      "min      0.000000    0.000000    0.000000    1.000000    3.000000    4.000000   \n",
      "25%      1.000000    0.000000    1.000000    7.000000   14.000000   23.000000   \n",
      "50%      3.000000    0.000000    3.000000   14.000000   23.000000   42.000000   \n",
      "75%      7.000000    2.000000    8.000000   29.000000   43.000000   84.000000   \n",
      "max     15.000000    2.000000   23.000000  113.000000  120.000000  212.000000   \n",
      "\n",
      "       SHAPE_Leng  SHAPE_Area  \n",
      "count   89.000000   89.000000  \n",
      "mean    39.718200    7.817388  \n",
      "std     33.562294    8.353968  \n",
      "min      1.182047    0.005433  \n",
      "25%     17.229982    1.800806  \n",
      "50%     30.045957    5.866672  \n",
      "75%     51.284613   10.026313  \n",
      "max    174.932188   38.924554  \n",
      "\n",
      "[8 rows x 42 columns]\n"
     ]
    }
   ],
   "source": [
    "print(gdf.describe())  \n",
    "\n"
   ]
  },
  {
   "cell_type": "code",
   "execution_count": 41,
   "metadata": {},
   "outputs": [
    {
     "data": {
      "text/plain": [
       "(89, 58)"
      ]
     },
     "execution_count": 41,
     "metadata": {},
     "output_type": "execute_result"
    }
   ],
   "source": [
    "gdf.shape"
   ]
  },
  {
   "cell_type": "code",
   "execution_count": 21,
   "metadata": {},
   "outputs": [
    {
     "name": "stdout",
     "output_type": "stream",
     "text": [
      "<class 'geopandas.geodataframe.GeoDataFrame'>\n",
      "RangeIndex: 89 entries, 0 to 88\n",
      "Data columns (total 58 columns):\n",
      " #   Column      Non-Null Count  Dtype   \n",
      "---  ------      --------------  -----   \n",
      " 0   REG_CODE_7  89 non-null     object  \n",
      " 1   reg_code_8  89 non-null     object  \n",
      " 2   AMPHIBIAN_  89 non-null     float64 \n",
      " 3   AMPHIBIAN1  89 non-null     float64 \n",
      " 4   AMPHIBIA_1  89 non-null     float64 \n",
      " 5   AMPHIBIA_2  89 non-null     float64 \n",
      " 6   AMPHIBIA_3  89 non-null     float64 \n",
      " 7   BIRD_CD     89 non-null     float64 \n",
      " 8   BIRD_CE     89 non-null     float64 \n",
      " 9   BIRD_E      89 non-null     float64 \n",
      " 10  BIRD_V      89 non-null     float64 \n",
      " 11  BIRD_TOTAL  89 non-null     float64 \n",
      " 12  FISH_CD     89 non-null     float64 \n",
      " 13  FISH_CE     89 non-null     float64 \n",
      " 14  FISH_E      89 non-null     float64 \n",
      " 15  FISH_V      89 non-null     float64 \n",
      " 16  FISH_TOTAL  89 non-null     float64 \n",
      " 17  MAMMAL_CD   89 non-null     float64 \n",
      " 18  MAMMAL_CE   89 non-null     float64 \n",
      " 19  MAMMAL_E    89 non-null     float64 \n",
      " 20  MAMMAL_V    89 non-null     float64 \n",
      " 21  MAMMAL_TOT  89 non-null     float64 \n",
      " 22  OTHER_CD    89 non-null     float64 \n",
      " 23  OTHER_CE    89 non-null     float64 \n",
      " 24  OTHER_E     89 non-null     float64 \n",
      " 25  OTHER_V     89 non-null     float64 \n",
      " 26  OTHER_TOTA  89 non-null     float64 \n",
      " 27  PLANT_CD    89 non-null     float64 \n",
      " 28  PLANT_CE    89 non-null     float64 \n",
      " 29  PLANT_E     89 non-null     float64 \n",
      " 30  PLANT_V     89 non-null     float64 \n",
      " 31  PLANT_TOTA  89 non-null     float64 \n",
      " 32  REPTILE_CD  89 non-null     float64 \n",
      " 33  REPTILE_CE  89 non-null     float64 \n",
      " 34  REPTILE_E   89 non-null     float64 \n",
      " 35  REPTILE_V   89 non-null     float64 \n",
      " 36  REPTILE_TO  89 non-null     float64 \n",
      " 37  CONSERVATI  89 non-null     float64 \n",
      " 38  CRITICALLY  89 non-null     float64 \n",
      " 39  ENDANGERED  89 non-null     float64 \n",
      " 40  VULNERABLE  89 non-null     float64 \n",
      " 41  TOTAL       89 non-null     float64 \n",
      " 42  TOTAL_CAT   89 non-null     object  \n",
      " 43  CE_CAT      89 non-null     object  \n",
      " 44  PLANT_TO_1  89 non-null     object  \n",
      " 45  PLANT_CE_C  89 non-null     object  \n",
      " 46  MAMMAL_T_1  89 non-null     object  \n",
      " 47  MAMMAL_CE_  89 non-null     object  \n",
      " 48  BIRD_TOT_1  89 non-null     object  \n",
      " 49  BIRD_CE_CA  89 non-null     object  \n",
      " 50  REPTILE_CA  89 non-null     object  \n",
      " 51  AMPHIBIA_4  89 non-null     object  \n",
      " 52  OTHER_CE_C  89 non-null     object  \n",
      " 53  FISH_TOT_1  89 non-null     object  \n",
      " 54  OTHER_TO_1  89 non-null     object  \n",
      " 55  SHAPE_Leng  89 non-null     float64 \n",
      " 56  SHAPE_Area  89 non-null     float64 \n",
      " 57  geometry    89 non-null     geometry\n",
      "dtypes: float64(42), geometry(1), object(15)\n",
      "memory usage: 40.5+ KB\n"
     ]
    }
   ],
   "source": [
    "gdf.info()"
   ]
  },
  {
   "cell_type": "code",
   "execution_count": 44,
   "metadata": {},
   "outputs": [],
   "source": [
    "sts_target = gdf.groupby(['BIRD_CD'])['TOTAL'].std()\n",
    "mean_std_target = np.mean(sts_target)"
   ]
  },
  {
   "cell_type": "code",
   "execution_count": 45,
   "metadata": {},
   "outputs": [
    {
     "data": {
      "image/png": "[encoded data removed]",
      "text/plain": [
       "<Figure size 864x432 with 1 Axes>"
      ]
     },
     "metadata": {
      "needs_background": "light"
     },
     "output_type": "display_data"
    }
   ],
   "source": [
    "fig, ax = plt.subplots(1, 1, figsize=(12, 6))\n",
    "sts_target.plot.hist(bins=60)\n",
    "plt.title(\"standard deviation of target distribution\")\n",
    "plt.show()"
   ]
  },
  {
   "cell_type": "code",
   "execution_count": 20,
   "metadata": {},
   "outputs": [
    {
     "data": {
      "image/png": "[encoded data removed]",
      "text/plain": [
       "<Figure size 432x288 with 1 Axes>"
      ]
     },
     "metadata": {
      "needs_background": "light"
     },
     "output_type": "display_data"
    }
   ],
   "source": [
    "  \n",
    "# 查看数据的空间分布情况  \n",
    "gdf.plot()\n",
    "\n",
    "\n",
    "# 添加标题，（标题自设）  \n",
    "plt.title('Shapefile Data')  \n",
    "plt.show()\n"
   ]
  },
  {
   "cell_type": "code",
   "execution_count": null,
   "metadata": {},
   "outputs": [],
   "source": []
  },
  {
   "cell_type": "code",
   "execution_count": 23,
   "metadata": {},
   "outputs": [],
   "source": [
    "from sklearn.model_selection import train_test_split  \n",
    "from sklearn.tree import DecisionTreeClassifier  \n",
    "from sklearn.metrics import accuracy_score\n",
    "features = gdf.drop(['geometry'], axis=1)  # 删除几何列  \n",
    "# labels = features['哺乳动物数量'] \n",
    "\n",
    "  \n",
    "# 显示图形  "
   ]
  },
  {
   "cell_type": "code",
   "execution_count": 33,
   "metadata": {},
   "outputs": [],
   "source": [
    "get_lsis = []\n",
    "for col in features.columns.tolist():\n",
    "    try:\n",
    "        features[col] = features[col].astype(float)\n",
    "        get_lsis.append(col)\n",
    "    except:\n",
    "        continue"
   ]
  },
  {
   "cell_type": "code",
   "execution_count": 34,
   "metadata": {},
   "outputs": [
    {
     "data": {
      "text/plain": [
       "['AMPHIBIAN_',\n",
       " 'AMPHIBIAN1',\n",
       " 'AMPHIBIA_1',\n",
       " 'AMPHIBIA_2',\n",
       " 'AMPHIBIA_3',\n",
       " 'BIRD_CD',\n",
       " 'BIRD_CE',\n",
       " 'BIRD_E',\n",
       " 'BIRD_V',\n",
       " 'BIRD_TOTAL',\n",
       " 'FISH_CD',\n",
       " 'FISH_CE',\n",
       " 'FISH_E',\n",
       " 'FISH_V',\n",
       " 'FISH_TOTAL',\n",
       " 'MAMMAL_CD',\n",
       " 'MAMMAL_CE',\n",
       " 'MAMMAL_E',\n",
       " 'MAMMAL_V',\n",
       " 'MAMMAL_TOT',\n",
       " 'OTHER_CD',\n",
       " 'OTHER_CE',\n",
       " 'OTHER_E',\n",
       " 'OTHER_V',\n",
       " 'OTHER_TOTA',\n",
       " 'PLANT_CD',\n",
       " 'PLANT_CE',\n",
       " 'PLANT_E',\n",
       " 'PLANT_V',\n",
       " 'PLANT_TOTA',\n",
       " 'REPTILE_CD',\n",
       " 'REPTILE_CE',\n",
       " 'REPTILE_E',\n",
       " 'REPTILE_V',\n",
       " 'REPTILE_TO',\n",
       " 'CONSERVATI',\n",
       " 'CRITICALLY',\n",
       " 'ENDANGERED',\n",
       " 'VULNERABLE',\n",
       " 'TOTAL',\n",
       " 'MAMMAL_CE_',\n",
       " 'BIRD_CE_CA',\n",
       " 'SHAPE_Leng',\n",
       " 'SHAPE_Area']"
      ]
     },
     "execution_count": 34,
     "metadata": {},
     "output_type": "execute_result"
    }
   ],
   "source": [
    "get_lsis"
   ]
  },
  {
   "cell_type": "code",
   "execution_count": 35,
   "metadata": {},
   "outputs": [],
   "source": [
    "features = features[get_lsis]"
   ]
  },
  {
   "cell_type": "code",
   "execution_count": 36,
   "metadata": {},
   "outputs": [],
   "source": [
    "labels = features['TOTAL'] \n"
   ]
  },
  {
   "cell_type": "code",
   "execution_count": 37,
   "metadata": {},
   "outputs": [
    {
     "data": {
      "text/plain": [
       "dtype('float64')"
      ]
     },
     "execution_count": 37,
     "metadata": {},
     "output_type": "execute_result"
    }
   ],
   "source": [
    "labels.dtype"
   ]
  },
  {
   "cell_type": "code",
   "execution_count": 38,
   "metadata": {},
   "outputs": [],
   "source": [
    "X_train, X_test, y_train, y_test = train_test_split(features, labels, test_size=0.2, random_state=42)  "
   ]
  },
  {
   "cell_type": "code",
   "execution_count": 40,
   "metadata": {},
   "outputs": [
    {
     "name": "stdout",
     "output_type": "stream",
     "text": [
      "Accuracy: 0.3333333333333333\n"
     ]
    }
   ],
   "source": [
    "clf = DecisionTreeClassifier()  \n",
    "clf.fit(X_train, y_train)  \n",
    "  \n",
    "# 预测测试集结果  \n",
    "y_pred = clf.predict(X_test)  \n",
    "  \n",
    "# 计算准确率  \n",
    "accuracy = accuracy_score(y_test, y_pred)  \n",
    "print('Accuracy:', accuracy)  \n",
    "  \n",
    "# 对新的shp文件进行预测  \n",
    "# new_gdf = gpd.read_file('path/to/new/file.shp')  # 读取新的shp文件  \n",
    "# new_features = new_gdf.drop(['geometry'], axis=1)  # 提取特征  \n",
    "# new_labels = clf.predict(new_features)  # 使用训练好的模型进行预测 \n"
   ]
  },
  {
   "cell_type": "code",
   "execution_count": null,
   "metadata": {},
   "outputs": [],
   "source": []
  },
  {
   "cell_type": "code",
   "execution_count": null,
   "metadata": {},
   "outputs": [],
   "source": []
  },
  {
   "cell_type": "code",
   "execution_count": null,
   "metadata": {},
   "outputs": [],
   "source": []
  },
  {
   "cell_type": "code",
   "execution_count": null,
   "metadata": {},
   "outputs": [],
   "source": []
  },
  {
   "cell_type": "code",
   "execution_count": null,
   "metadata": {},
   "outputs": [],
   "source": []
  },
  {
   "cell_type": "code",
   "execution_count": null,
   "metadata": {},
   "outputs": [],
   "source": []
  },
  {
   "cell_type": "code",
   "execution_count": null,
   "metadata": {},
   "outputs": [],
   "source": []
  },
  {
   "cell_type": "code",
   "execution_count": null,
   "metadata": {},
   "outputs": [],
   "source": []
  }
 ],
 "metadata": {
  "interpreter": {
   "hash": "aee8b7b246df8f9039afb4144a1f6fd8d2ca17a180786b69acc140d282b71a49"
  },
  "kernelspec": {
   "display_name": "Python 3.9.6 64-bit",
   "name": "python3"
  },
  "language_info": {
   "codemirror_mode": {
    "name": "ipython",
    "version": 3
   },
   "file_extension": ".py",
   "mimetype": "text/x-python",
   "name": "python",
   "nbconvert_exporter": "python",
   "pygments_lexer": "ipython3",
   "version": "3.9.15"
  },
  "vscode": {
   "interpreter": {
    "hash": "e0144baad0ecee903f108a3e46e51ceadd7da3fc904cfa79747d813b61464b4e"
   }
  }
 },
 "nbformat": 4,
 "nbformat_minor": 4
}
